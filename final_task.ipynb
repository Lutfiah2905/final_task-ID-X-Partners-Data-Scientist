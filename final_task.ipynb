{
 "cells": [
  {
   "cell_type": "markdown",
   "id": "2e05578e",
   "metadata": {},
   "source": [
    "loan_prediction_full.py"
   ]
  },
  {
   "cell_type": "code",
   "execution_count": null,
   "id": "2b1a4ea3",
   "metadata": {},
   "outputs": [],
   "source": [
    "# == IMPORT ==\n",
    "import pandas as pd\n",
    "import numpy as np\n",
    "import matplotlib.pyplot as plt\n",
    "import seaborn as sns"
   ]
  },
  {
   "cell_type": "code",
   "execution_count": null,
   "id": "9a1b5fa4",
   "metadata": {},
   "outputs": [],
   "source": [
    "from sklearn.model_selection import train_test_split\n",
    "from sklearn.linear_model import LogisticRegression\n",
    "from sklearn.ensemble import RandomForestClassifier\n",
    "from sklearn.metrics import (\n",
    "    classification_report, confusion_matrix, roc_auc_score, roc_curve\n",
    ")\n",
    "from sklearn.preprocessing import StandardScaler\n",
    "from imblearn.over_sampling import SMOTE\n",
    "import joblib"
   ]
  },
  {
   "cell_type": "code",
   "execution_count": null,
   "id": "5c56d38c",
   "metadata": {},
   "outputs": [],
   "source": [
    "# Atur style visualisasi\n",
    "sns.set(style=\"whitegrid\", palette=\"muted\")\n",
    "plt.rcParams[\"figure.figsize\"] = (6,4)"
   ]
  },
  {
   "cell_type": "code",
   "execution_count": null,
   "id": "7396cfb5",
   "metadata": {},
   "outputs": [],
   "source": [
    "# == LOAD DATA ==\n",
    "print(\"== LOAD DATA ==\")\n",
    "df = pd.read_csv(r\"C:\\Users\\Avita\\Documents\\matematika\\Rakamin\\Data Science_IDX Partners\\python\\data.csv\", low_memory=False)\n",
    "print(\"Jumlah baris:\", df.shape[0], \"Jumlah kolom:\", df.shape[1])\n",
    "print(\"Contoh data:\")\n",
    "print(df.head())"
   ]
  },
  {
   "cell_type": "code",
   "execution_count": null,
   "id": "7725919c",
   "metadata": {},
   "outputs": [],
   "source": [
    "# == DATA UNDERSTANDING ==\n",
    "print(\"\\n== DATA UNDERSTANDING ==\")\n",
    "print(\"Tipe data tiap kolom:\")\n",
    "print(df.dtypes.head(20))\n",
    "print(\"\\nStatistik deskriptif:\")\n",
    "print(df.describe(include=\"all\").transpose().head(20))"
   ]
  },
  {
   "cell_type": "code",
   "execution_count": null,
   "id": "580dbfdc",
   "metadata": {},
   "outputs": [],
   "source": [
    "# == CLEANING DATA ==\n",
    "print(\"\\n== CLEANING DATA ==\")\n",
    "df['target'] = df['loan_status'].map({\n",
    "    'Fully Paid': 0,\n",
    "    'Current': 0,\n",
    "    'Charged Off': 1,\n",
    "    'Default': 1,\n",
    "    'Late (31-120 days)': 1,\n",
    "    'Late (16-30 days)': 1,\n",
    "    'Does not meet the credit policy. Status:Charged Off': 1\n",
    "}).fillna(0).astype(int)"
   ]
  },
  {
   "cell_type": "code",
   "execution_count": null,
   "id": "9ddfb868",
   "metadata": {},
   "outputs": [],
   "source": [
    "print(\"Distribusi target setelah mapping:\\n\", df['target'].value_counts())"
   ]
  },
  {
   "cell_type": "code",
   "execution_count": null,
   "id": "4dd1a726",
   "metadata": {},
   "outputs": [],
   "source": [
    "# Drop kolom yang semuanya NaN\n",
    "df = df.dropna(axis=1, how='all')"
   ]
  },
  {
   "cell_type": "code",
   "execution_count": null,
   "id": "912d9237",
   "metadata": {},
   "outputs": [],
   "source": [
    "# Simpan sample hasil cleaning\n",
    "df.sample(10).to_csv(\"sample_cleaned_head.csv\", index=False)"
   ]
  },
  {
   "cell_type": "code",
   "execution_count": null,
   "id": "2ea1c209",
   "metadata": {},
   "outputs": [],
   "source": [
    "# == VISUALISASI DATA UNDERSTANDING ==\n",
    "# Distribusi target\n",
    "sns.countplot(x=\"target\", data=df)\n",
    "plt.title(\"Distribusi Target (0=Good, 1=Bad Loan)\")\n",
    "plt.show()"
   ]
  },
  {
   "cell_type": "code",
   "execution_count": null,
   "id": "9f8c718c",
   "metadata": {},
   "outputs": [],
   "source": [
    "# == FEATURE ENGINEERING VISUAL ==\n",
    "# Annual income vs target\n",
    "sns.boxplot(x=\"target\", y=\"annual_inc\", data=df)\n",
    "plt.title(\"Annual Income vs Target\")\n",
    "plt.ylim(0, df['annual_inc'].quantile(0.95))  # supaya tidak terlalu ekstrem\n",
    "plt.show()"
   ]
  },
  {
   "cell_type": "code",
   "execution_count": null,
   "id": "f1075f61",
   "metadata": {},
   "outputs": [],
   "source": [
    "# == EDA ==\n",
    "# Distribusi annual_inc\n",
    "sns.histplot(df['annual_inc'], bins=50, kde=True)\n",
    "plt.title(\"Distribusi Pendapatan Tahunan (annual_inc)\")\n",
    "plt.show()"
   ]
  },
  {
   "cell_type": "code",
   "execution_count": null,
   "id": "0bd6ba5f",
   "metadata": {},
   "outputs": [],
   "source": [
    "# Distribusi funded_amnt\n",
    "sns.histplot(df['funded_amnt'], bins=50, kde=True)\n",
    "plt.title(\"Distribusi Funded Amount\")\n",
    "plt.show()"
   ]
  },
  {
   "cell_type": "code",
   "execution_count": null,
   "id": "7d831a38",
   "metadata": {},
   "outputs": [],
   "source": [
    "# Distribusi int_rate\n",
    "sns.histplot(df['int_rate'], bins=50, kde=True)\n",
    "plt.title(\"Distribusi Interest Rate (int_rate)\")\n",
    "plt.show()"
   ]
  },
  {
   "cell_type": "code",
   "execution_count": null,
   "id": "ea98fcb1",
   "metadata": {},
   "outputs": [],
   "source": [
    "# Distribusi loan_amnt\n",
    "sns.histplot(df['loan_amnt'], bins=50, kde=True)\n",
    "plt.title(\"Distribusi Loan Amount (loan_amnt)\")\n",
    "plt.show()"
   ]
  },
  {
   "cell_type": "code",
   "execution_count": null,
   "id": "5cc5529c",
   "metadata": {},
   "outputs": [],
   "source": [
    "# Korelasi antar fitur numerik\n",
    "num_cols = ['loan_amnt','funded_amnt','int_rate','annual_inc','dti','target']\n",
    "sns.heatmap(df[num_cols].corr(), annot=True, cmap=\"coolwarm\")\n",
    "plt.title(\"Heatmap Korelasi Fitur Numerik\")\n",
    "plt.show()"
   ]
  },
  {
   "cell_type": "code",
   "execution_count": null,
   "id": "46afec2f",
   "metadata": {},
   "outputs": [],
   "source": [
    "# Buang outlier annual_inc di atas 99%\n",
    "q99 = df['annual_inc'].quantile(0.99)\n",
    "df = df[df['annual_inc'] < q99]"
   ]
  },
  {
   "cell_type": "code",
   "execution_count": null,
   "id": "3c830b76",
   "metadata": {},
   "outputs": [],
   "source": [
    "# == DATA PREPARATION ==\n",
    "print(\"\\n== DATA PREPARATION ==\")\n",
    "features = ['loan_amnt', 'int_rate', 'annual_inc', 'dti']\n",
    "X = df[features].fillna(0)\n",
    "y = df['target']"
   ]
  },
  {
   "cell_type": "code",
   "execution_count": null,
   "id": "fdc87140",
   "metadata": {},
   "outputs": [],
   "source": [
    "scaler = StandardScaler()\n",
    "X_scaled = scaler.fit_transform(X)"
   ]
  },
  {
   "cell_type": "code",
   "execution_count": null,
   "id": "d05031ec",
   "metadata": {},
   "outputs": [],
   "source": [
    "X_train, X_test, y_train, y_test = train_test_split(\n",
    "    X_scaled, y, test_size=0.2, random_state=42, stratify=y\n",
    ")"
   ]
  },
  {
   "cell_type": "code",
   "execution_count": null,
   "id": "f00ef8a2",
   "metadata": {},
   "outputs": [],
   "source": [
    "# Distribusi sebelum SMOTE\n",
    "sns.countplot(x=y_train)\n",
    "plt.title(\"Distribusi Target Sebelum SMOTE\")\n",
    "plt.show()"
   ]
  },
  {
   "cell_type": "code",
   "execution_count": null,
   "id": "bf6b2fc5",
   "metadata": {},
   "outputs": [],
   "source": [
    "# SMOTE untuk handle imbalance\n",
    "sm = SMOTE(random_state=42)\n",
    "X_train_res, y_train_res = sm.fit_resample(X_train, y_train)"
   ]
  },
  {
   "cell_type": "code",
   "execution_count": null,
   "id": "6c3b466d",
   "metadata": {},
   "outputs": [],
   "source": [
    "# Distribusi sesudah SMOTE\n",
    "sns.countplot(x=y_train_res)\n",
    "plt.title(\"Distribusi Target Sesudah SMOTE\")\n",
    "plt.show()"
   ]
  },
  {
   "cell_type": "code",
   "execution_count": null,
   "id": "92bff2a9",
   "metadata": {},
   "outputs": [],
   "source": [
    "# == MODELING ==\n",
    "print(\"\\n== MODELING ==\")"
   ]
  },
  {
   "cell_type": "code",
   "execution_count": null,
   "id": "205c4655",
   "metadata": {},
   "outputs": [],
   "source": [
    "# Logistic Regression\n",
    "print(\"\\n-- Logistic Regression --\")\n",
    "logreg = LogisticRegression(max_iter=1000, class_weight=\"balanced\", random_state=42)\n",
    "logreg.fit(X_train_res, y_train_res)\n",
    "y_pred_log = logreg.predict(X_test)\n",
    "print(classification_report(y_test, y_pred_log))\n",
    "roc_log = roc_auc_score(y_test, logreg.predict_proba(X_test)[:,1])\n",
    "print(\"ROC AUC Logistic Regression:\", roc_log)"
   ]
  },
  {
   "cell_type": "code",
   "execution_count": null,
   "id": "346794b1",
   "metadata": {},
   "outputs": [],
   "source": [
    "# Confusion matrix Logistic Regression\n",
    "cm_log = confusion_matrix(y_test, y_pred_log)\n",
    "sns.heatmap(cm_log, annot=True, fmt=\"d\", cmap=\"Blues\")\n",
    "plt.title(\"Confusion Matrix - Logistic Regression\")\n",
    "plt.xlabel(\"Predicted\")\n",
    "plt.ylabel(\"Actual\")\n",
    "plt.show()"
   ]
  },
  {
   "cell_type": "code",
   "execution_count": null,
   "id": "b2a4f07b",
   "metadata": {},
   "outputs": [],
   "source": [
    "# Random Forest\n",
    "print(\"\\n-- Random Forest --\")\n",
    "rf = RandomForestClassifier(\n",
    "    n_estimators=200,\n",
    "    max_depth=15,\n",
    "    class_weight=\"balanced\",\n",
    "    random_state=42\n",
    ")\n",
    "rf.fit(X_train_res, y_train_res)\n",
    "y_pred_rf = rf.predict(X_test)\n",
    "print(classification_report(y_test, y_pred_rf))\n",
    "roc_rf = roc_auc_score(y_test, rf.predict_proba(X_test)[:,1])\n",
    "print(\"ROC AUC Random Forest:\", roc_rf)"
   ]
  },
  {
   "cell_type": "code",
   "execution_count": null,
   "id": "e7d282d9",
   "metadata": {},
   "outputs": [],
   "source": [
    "# Confusion matrix Random Forest\n",
    "cm_rf = confusion_matrix(y_test, y_pred_rf)\n",
    "sns.heatmap(cm_rf, annot=True, fmt=\"d\", cmap=\"Greens\")\n",
    "plt.title(\"Confusion Matrix - Random Forest\")\n",
    "plt.xlabel(\"Predicted\")\n",
    "plt.ylabel(\"Actual\")\n",
    "plt.show()"
   ]
  },
  {
   "cell_type": "code",
   "execution_count": null,
   "id": "2386ddb5",
   "metadata": {},
   "outputs": [],
   "source": [
    "# ROC Curve untuk kedua model\n",
    "fpr_log, tpr_log, _ = roc_curve(y_test, logreg.predict_proba(X_test)[:,1])\n",
    "fpr_rf, tpr_rf, _ = roc_curve(y_test, rf.predict_proba(X_test)[:,1])"
   ]
  },
  {
   "cell_type": "code",
   "execution_count": null,
   "id": "39c7c417",
   "metadata": {},
   "outputs": [],
   "source": [
    "plt.plot(fpr_log, tpr_log, label=f\"Logistic Regression (AUC={roc_log:.3f})\")\n",
    "plt.plot(fpr_rf, tpr_rf, label=f\"Random Forest (AUC={roc_rf:.3f})\")\n",
    "plt.plot([0,1], [0,1], \"k--\")\n",
    "plt.xlabel(\"False Positive Rate\")\n",
    "plt.ylabel(\"True Positive Rate\")\n",
    "plt.title(\"ROC Curve\")\n",
    "plt.legend()\n",
    "plt.show()"
   ]
  },
  {
   "cell_type": "code",
   "execution_count": null,
   "id": "deb5d700",
   "metadata": {},
   "outputs": [],
   "source": [
    "# == EVALUASI MODEL ==\n",
    "print(\"\\n== RINGKASAN HASIL EVALUASI ==\")\n",
    "if roc_log > roc_rf:\n",
    "    best_model = logreg\n",
    "    best_name = \"Logistic Regression\"\n",
    "    best_score = roc_log\n",
    "else:\n",
    "    best_model = rf\n",
    "    best_name = \"Random Forest\"\n",
    "    best_score = roc_rf"
   ]
  },
  {
   "cell_type": "code",
   "execution_count": null,
   "id": "3ac5b624",
   "metadata": {},
   "outputs": [],
   "source": [
    "print(f\"Best model: {best_name} dengan ROC AUC {best_score:.3f}\")"
   ]
  },
  {
   "cell_type": "code",
   "execution_count": null,
   "id": "f87cee4e",
   "metadata": {},
   "outputs": [],
   "source": [
    "# Simpan model terbaik\n",
    "joblib.dump(best_model, \"best_model.joblib\")\n",
    "print(\"Model terbaik disimpan ke best_model.joblib\")"
   ]
  }
 ],
 "metadata": {
  "jupytext": {
   "cell_metadata_filter": "-all",
   "main_language": "python",
   "notebook_metadata_filter": "-all"
  },
  "kernelspec": {
   "display_name": "Python 3 (ipykernel)",
   "language": "python",
   "name": "python3"
  },
  "language_info": {
   "codemirror_mode": {
    "name": "ipython",
    "version": 3
   },
   "file_extension": ".py",
   "mimetype": "text/x-python",
   "name": "python",
   "nbconvert_exporter": "python",
   "pygments_lexer": "ipython3",
   "version": "3.12.0"
  }
 },
 "nbformat": 4,
 "nbformat_minor": 5
}
